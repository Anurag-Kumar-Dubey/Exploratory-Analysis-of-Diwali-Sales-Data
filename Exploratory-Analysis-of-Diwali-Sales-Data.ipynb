{
 "cells": [
  {
   "cell_type": "code",
   "execution_count": 1,
   "id": "d58624c0",
   "metadata": {},
   "outputs": [],
   "source": [
    "# import required python libraries.\n",
    "\n",
    "import numpy as np \n",
    "import pandas as pd\n",
    "\n",
    "# libraries for visualising data.\n",
    "\n",
    "import matplotlib.pyplot as plt\n",
    "%matplotlib inline\n",
    "import seaborn as sns"
   ]
  },
  {
   "cell_type": "markdown",
   "id": "3eb4af8c",
   "metadata": {},
   "source": [
    "Note:- The `%matplotlib inline` command is a special command used in Jupyter Notebook. When we run this command in a code cell in a Jupyter Notebook, it tells the notebook to display Matplotlib plots directly within the notebook's interface, rather than opening them in separate windows or external applications."
   ]
  },
  {
   "cell_type": "code",
   "execution_count": null,
   "id": "b7f770c0",
   "metadata": {},
   "outputs": [],
   "source": []
  }
 ],
 "metadata": {
  "kernelspec": {
   "display_name": "Python 3 (ipykernel)",
   "language": "python",
   "name": "python3"
  },
  "language_info": {
   "codemirror_mode": {
    "name": "ipython",
    "version": 3
   },
   "file_extension": ".py",
   "mimetype": "text/x-python",
   "name": "python",
   "nbconvert_exporter": "python",
   "pygments_lexer": "ipython3",
   "version": "3.11.5"
  }
 },
 "nbformat": 4,
 "nbformat_minor": 5
}
